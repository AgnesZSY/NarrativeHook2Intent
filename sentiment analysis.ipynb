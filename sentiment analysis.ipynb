{
 "cells": [
  {
   "cell_type": "code",
   "execution_count": null,
   "id": "c5ae09f4",
   "metadata": {},
   "outputs": [],
   "source": [
    "#标题 Bert 情感分析"
   ]
  },
  {
   "cell_type": "code",
   "execution_count": null,
   "id": "9b176d40",
   "metadata": {},
   "outputs": [
    {
     "name": "stderr",
     "output_type": "stream",
     "text": [
      "d:\\software\\anaconda\\envs\\unet\\lib\\site-packages\\tqdm\\auto.py:21: TqdmWarning: IProgress not found. Please update jupyter and ipywidgets. See https://ipywidgets.readthedocs.io/en/stable/user_install.html\n",
      "  from .autonotebook import tqdm as notebook_tqdm\n"
     ]
    },
    {
     "name": "stdout",
     "output_type": "stream",
     "text": [
      "✅ 模型加载成功\n",
      "==================================================\n",
      "===================== 情感计算开始 =====================\n",
      "==================================================\n"
     ]
    },
    {
     "name": "stderr",
     "output_type": "stream",
     "text": [
      "处理进度: 100%|██████████| 10173/10173 [12:42<00:00, 13.34it/s]\n"
     ]
    },
    {
     "name": "stdout",
     "output_type": "stream",
     "text": [
      "✅ 结果已保存到: D:\\AAA\\一\\大论文\\子研究二\\情感值计算.xlsx\n",
      "\n",
      "情感值统计:\n",
      "count    10173.000000\n",
      "mean         5.266420\n",
      "std          3.131227\n",
      "min          2.080000\n",
      "25%          4.390000\n",
      "50%          5.060000\n",
      "75%          5.750000\n",
      "max         99.230000\n",
      "Name: sentiment, dtype: float64\n"
     ]
    }
   ],
   "source": [
    "import os\n",
    "import pandas as pd\n",
    "import torch\n",
    "import warnings\n",
    "from transformers import pipeline\n",
    "from tqdm.auto import tqdm\n",
    "from transformers.utils import logging\n",
    "\n",
    "# 1. 环境配置\n",
    "os.environ[\"HF_HUB_DISABLE_XET_WARNING\"] = \"1\"\n",
    "os.environ[\"TOKENIZERS_PARALLELISM\"] = \"false\"\n",
    "os.environ[\"HF_HUB_DISABLE_XET\"] = \"1\"\n",
    "logging.set_verbosity_error()\n",
    "warnings.filterwarnings(\"ignore\")\n",
    "\n",
    "# 2. 模型初始化\n",
    "def init_analyzer():\n",
    "    try:\n",
    "        analyzer = pipeline(\n",
    "            \"text-classification\",\n",
    "            model=\"finiteautomata/bertweet-base-sentiment-analysis\",\n",
    "            device=0 if torch.cuda.is_available() else -1\n",
    "        )\n",
    "        print(\"✅ 模型加载成功\")\n",
    "        return analyzer\n",
    "    except Exception as e:\n",
    "        print(f\"❌ 模型加载失败: {str(e)}\")\n",
    "        raise\n",
    "\n",
    "emotion_analyzer = init_analyzer()\n",
    "\n",
    "# 3. 情感计算函数\n",
    "def calculate_sentiment(text):\n",
    "    if not isinstance(text, str) or not text.strip():\n",
    "        return 50.0  # 默认中性值\n",
    "    \n",
    "    try:\n",
    "        result = emotion_analyzer(text[:512])[0]\n",
    "        score = result['score']\n",
    "        \n",
    "        # 根据标签确定情绪方向\n",
    "        if result['label'] == \"POS\":\n",
    "            sentiment_value = score * 100  # 积极情绪，范围0-100\n",
    "        else:\n",
    "            sentiment_value = (1 - score) * 100  # 消极情绪，范围0-100\n",
    "        \n",
    "        return round(sentiment_value, 2)\n",
    "    \n",
    "    except Exception as e:\n",
    "        print(f\"分析出错: {str(e)}\")\n",
    "        return 50.0  # 默认中性值\n",
    "\n",
    "# 4. 批量处理函数\n",
    "def process_data(input_path, output_path):\n",
    "    try:\n",
    "        df = pd.read_excel(input_path)\n",
    "        if 'id' not in df.columns or 'title' not in df.columns:\n",
    "            raise ValueError(\"输入文件需要包含'id'和'title'列\")\n",
    "            \n",
    "        # 初始化results列表\n",
    "        results = []  # 修正了这里的语法错误\n",
    "        \n",
    "        # 使用iterrows遍历数据\n",
    "        for _, row in tqdm(df.iterrows(), total=len(df), desc=\"处理进度\"):\n",
    "            sentiment = calculate_sentiment(str(row['title']))\n",
    "            results.append({\n",
    "                \"id\": row['id'],\n",
    "                \"title\": row['title'],\n",
    "                \"sentiment\": sentiment\n",
    "            })\n",
    "        \n",
    "        # 转换为DataFrame\n",
    "        result_df = pd.DataFrame(results)\n",
    "        result_df = result_df[['id', 'title', 'sentiment']]\n",
    "        \n",
    "        # 保存结果\n",
    "        result_df.to_excel(output_path, index=False)\n",
    "        print(f\"✅ 结果已保存到: {output_path}\")\n",
    "        \n",
    "        # 打印统计\n",
    "        print(\"\\n情感值统计:\")\n",
    "        print(result_df['sentiment'].describe())\n",
    "        \n",
    "    except Exception as e:\n",
    "        print(f\"❌ 处理失败: {str(e)}\")\n",
    "        if os.path.exists(output_path):\n",
    "            os.remove(output_path)\n",
    "\n",
    "# 5. 主程序\n",
    "if __name__ == \"__main__\":\n",
    "    INPUT = r\"XXXXXXXXXXXXXXXXXXXX\"\n",
    "    OUTPUT = r\"XXXXXXXXXXXXXXXXXXXXXXXXXXX\"\n",
    "    \n",
    "    print(\"=\"*50)\n",
    "    print(\" 情感计算开始 \".center(50, \"=\"))\n",
    "    print(\"=\"*50)\n",
    "    \n",
    "    process_data(INPUT, OUTPUT)"
   ]
  }
 ],
 "metadata": {
  "kernelspec": {
   "display_name": "unet",
   "language": "python",
   "name": "python3"
  },
  "language_info": {
   "codemirror_mode": {
    "name": "ipython",
    "version": 3
   },
   "file_extension": ".py",
   "mimetype": "text/x-python",
   "name": "python",
   "nbconvert_exporter": "python",
   "pygments_lexer": "ipython3",
   "version": "3.9.22"
  }
 },
 "nbformat": 4,
 "nbformat_minor": 5
}
