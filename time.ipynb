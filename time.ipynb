{
 "cells": [
  {
   "cell_type": "code",
   "execution_count": null,
   "id": "82be85ce",
   "metadata": {},
   "outputs": [],
   "source": [
    "#对时间进行量化+归一化处理"
   ]
  },
  {
   "cell_type": "code",
   "execution_count": null,
   "id": "65ac27e3",
   "metadata": {},
   "outputs": [
    {
     "name": "stdout",
     "output_type": "stream",
     "text": [
      "处理完成，结果已保存到 C:\\Users\\12150\\OneDrive\\Desktop\\time2.xlsx\n"
     ]
    }
   ],
   "source": [
    "import pandas as pd\n",
    "\n",
    "# 1. 加载数据\n",
    "file_path = r'XXXXXXXXXXXXXXXXXXXXXXXXXXXX'\n",
    "df = pd.read_excel(file_path)\n",
    "\n",
    "# 2. 处理时间数据\n",
    "# 将时间字符串转换为datetime对象\n",
    "df['time'] = pd.to_datetime(df['time'])\n",
    "\n",
    "# 设置基准时间为2025年4月20日\n",
    "base_time = pd.Timestamp('2025-04-20')\n",
    "\n",
    "# 计算时间差并转换为天数\n",
    "df['t'] = (df['time'] - base_time).dt.total_seconds() / (60 * 60 * 24)\n",
    "\n",
    "# 3. 保存结果\n",
    "output_file = r'XXXXXXXXXXXXXXXXXXXXXXXXXXXXXX'\n",
    "df.to_excel(output_file, index=False)\n",
    "\n",
    "print(f\"处理完成，结果已保存到 {output_file}\")"
   ]
  }
 ],
 "metadata": {
  "kernelspec": {
   "display_name": "unet",
   "language": "python",
   "name": "python3"
  },
  "language_info": {
   "codemirror_mode": {
    "name": "ipython",
    "version": 3
   },
   "file_extension": ".py",
   "mimetype": "text/x-python",
   "name": "python",
   "nbconvert_exporter": "python",
   "pygments_lexer": "ipython3",
   "version": "3.9.22"
  }
 },
 "nbformat": 4,
 "nbformat_minor": 5
}
